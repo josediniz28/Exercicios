{
 "cells": [
  {
   "cell_type": "markdown",
   "metadata": {},
   "source": [
    "### Exercicios\n",
    "\n",
    "1. Replace all occurrences of 3 with 10, arr = np.array([1, 2, 3,3,3,3,3, 4, 5])\n",
    "2. Find common elements between the two arrays, arr1 = np.array([1, 2, 3, 4, 5]), arr2 = np.array([3, 4, 5, 6, 7])\n",
    "3. Reshape the array into a 2x4 matrix, arr = np.array([1, 2, 3, 4, 5, 6, 7, 8])\n",
    "4. Remove duplicate elements, arr = np.array([1, 2, 2, 3, 4, 4, 5, 6, 6])\n",
    "5. Split the array into three sub-arrays, arr = np.array([1, 2, 3, 4, 5, 6, 7, 8, 9, 10])\n",
    "6. Perform element-wise multiplication, arr1 = np.array([1, 2, 3, 4]), arr2 = np.array([5, 6, 7, 8])"
   ]
  },
  {
   "cell_type": "code",
   "execution_count": 3,
   "metadata": {},
   "outputs": [
    {
     "name": "stdout",
     "output_type": "stream",
     "text": [
      "[ 1  2 10 10 10 10 10  4  5]\n"
     ]
    }
   ],
   "source": [
    "#1\n",
    "import numpy as np\n",
    "arr = np.array([1, 2, 3, 3, 3, 3, 3, 4, 5])\n",
    "arr = np.where(arr == 3, 10, arr)\n",
    "print(arr)"
   ]
  },
  {
   "cell_type": "code",
   "execution_count": 4,
   "metadata": {},
   "outputs": [
    {
     "name": "stdout",
     "output_type": "stream",
     "text": [
      "[3 4 5]\n"
     ]
    }
   ],
   "source": [
    "#2\n",
    "arr1 = np.array([1, 2, 3, 4, 5])\n",
    "arr2 = np.array([3, 4, 5, 6, 7])\n",
    "common_elements = np.intersect1d(arr1, arr2)\n",
    "print(common_elements)"
   ]
  },
  {
   "cell_type": "code",
   "execution_count": 5,
   "metadata": {},
   "outputs": [
    {
     "name": "stdout",
     "output_type": "stream",
     "text": [
      "[[1 2 3 4]\n",
      " [5 6 7 8]]\n"
     ]
    }
   ],
   "source": [
    "#3\n",
    "arr3 = np.array([1, 2, 3, 4, 5, 6, 7, 8])\n",
    "reshaped_arr = np.reshape(arr3, (2, 4))\n",
    "print(reshaped_arr)"
   ]
  },
  {
   "cell_type": "code",
   "execution_count": 6,
   "metadata": {},
   "outputs": [
    {
     "name": "stdout",
     "output_type": "stream",
     "text": [
      "[1 2 3 4 5 6]\n"
     ]
    }
   ],
   "source": [
    "#4\n",
    "arr4 = np.array([1, 2, 2, 3, 4, 4, 5, 6, 6])\n",
    "unique_arr = np.unique(arr4)\n",
    "print(unique_arr)"
   ]
  },
  {
   "cell_type": "code",
   "execution_count": 7,
   "metadata": {},
   "outputs": [
    {
     "name": "stdout",
     "output_type": "stream",
     "text": [
      "Subarray 1: [1 2 3 4]\n",
      "Subarray 2: [5 6 7]\n",
      "Subarray 3: [ 8  9 10]\n"
     ]
    }
   ],
   "source": [
    "#5\n",
    "arr6 = np.array([1, 2, 3, 4, 5, 6, 7, 8, 9, 10])\n",
    "subarrays = np.array_split(arr6, 3)\n",
    "for i, subarray in enumerate(subarrays):\n",
    "    print(f\"Subarray {i + 1}: {subarray}\")"
   ]
  },
  {
   "cell_type": "code",
   "execution_count": 8,
   "metadata": {},
   "outputs": [
    {
     "name": "stdout",
     "output_type": "stream",
     "text": [
      "Resultado da multiplicação elemento a elemento:\n",
      "[ 5 12 21 32]\n"
     ]
    }
   ],
   "source": [
    "#6\n",
    "arr7 = np.array([1, 2, 3, 4])\n",
    "arr8 = np.array([5, 6, 7, 8])\n",
    "result = arr7 * arr8\n",
    "print(\"Resultado da multiplicação elemento a elemento:\")\n",
    "print(result)"
   ]
  },
  {
   "cell_type": "markdown",
   "metadata": {},
   "source": [
    "**Bora praticar!**  \n",
    "  \n",
    "Transforme o csv **dados_artificiais**, que está na pasta **dados**, para um numpy array (matriz)"
   ]
  },
  {
   "cell_type": "code",
   "execution_count": 7,
   "metadata": {},
   "outputs": [
    {
     "data": {
      "text/plain": [
       "array([[ 1.788811, 65.648102,  0.      ],\n",
       "       [ 1.566784, 76.642768,  0.      ],\n",
       "       [ 2.092193, 55.468185,  1.      ],\n",
       "       [ 1.782471, 67.281997,  1.      ],\n",
       "       [ 1.735767, 69.289008,  0.      ],\n",
       "       [ 1.686975, 56.840051,  0.      ],\n",
       "       [ 1.797105, 65.208973,  1.      ],\n",
       "       [ 1.187349, 48.164764,  0.      ],\n",
       "       [ 1.595891, 45.410648,  1.      ],\n",
       "       [ 1.396282, 67.930113,  0.      ],\n",
       "       [ 1.606148, 67.719604,  0.      ],\n",
       "       [ 1.70759 , 45.609333,  0.      ],\n",
       "       [ 1.735513, 64.845452,  0.      ],\n",
       "       [ 1.672055, 39.705952,  1.      ],\n",
       "       [ 1.723377, 50.05888 ,  1.      ],\n",
       "       [ 1.684574, 56.545087,  1.      ],\n",
       "       [ 1.733259, 37.512188,  0.      ],\n",
       "       [ 1.7579  , 57.362422,  0.      ],\n",
       "       [ 1.913338, 69.307246,  1.      ],\n",
       "       [ 1.456048, 69.342337,  0.      ]])"
      ]
     },
     "execution_count": 7,
     "metadata": {},
     "output_type": "execute_result"
    }
   ],
   "source": [
    "import numpy as np\n",
    "\n",
    "matriz =np.loadtxt(\"dados_artificiais.txt\",skiprows=1, usecols=(1,2,3) )\n",
    "\n",
    "matriz"
   ]
  },
  {
   "cell_type": "markdown",
   "metadata": {},
   "source": [
    "Agora utilize esta matriz para calcular o IMC, utilizando a equação\n",
    "\n",
    "```\n",
    "IMC = peso / altura**2\n",
    "```\n",
    "e insira na nova tabela"
   ]
  },
  {
   "cell_type": "code",
   "execution_count": null,
   "metadata": {},
   "outputs": [],
   "source": [
    "calc_imc = [matriz[i][1]/(matriz[i][0]**2)  for i in range(len(matriz))]\n",
    "calc_imc"
   ]
  },
  {
   "cell_type": "code",
   "execution_count": 10,
   "metadata": {},
   "outputs": [
    {
     "data": {
      "text/plain": [
       "array([[ 1.788811  , 65.648102  ,  0.        , 20.51602694],\n",
       "       [ 1.566784  , 76.642768  ,  0.        , 31.22143968],\n",
       "       [ 2.092193  , 55.468185  ,  1.        , 12.67186291],\n",
       "       [ 1.782471  , 67.281997  ,  1.        , 21.17648757],\n",
       "       [ 1.735767  , 69.289008  ,  0.        , 22.99754561],\n",
       "       [ 1.686975  , 56.840051  ,  0.        , 19.97271779],\n",
       "       [ 1.797105  , 65.208973  ,  1.        , 20.19112211],\n",
       "       [ 1.187349  , 48.164764  ,  0.        , 34.16431009],\n",
       "       [ 1.595891  , 45.410648  ,  1.        , 17.8299961 ],\n",
       "       [ 1.396282  , 67.930113  ,  0.        , 34.8430415 ],\n",
       "       [ 1.606148  , 67.719604  ,  0.        , 26.25084498],\n",
       "       [ 1.70759   , 45.609333  ,  0.        , 15.64179232],\n",
       "       [ 1.735513  , 64.845452  ,  0.        , 21.52899612],\n",
       "       [ 1.672055  , 39.705952  ,  1.        , 14.20216309],\n",
       "       [ 1.723377  , 50.05888   ,  1.        , 16.85468124],\n",
       "       [ 1.684574  , 56.545087  ,  1.        , 19.92575058],\n",
       "       [ 1.733259  , 37.512188  ,  0.        , 12.48663648],\n",
       "       [ 1.7579    , 57.362422  ,  0.        , 18.5626146 ],\n",
       "       [ 1.913338  , 69.307246  ,  1.        , 18.93194561],\n",
       "       [ 1.456048  , 69.342337  ,  0.        , 32.70748042]])"
      ]
     },
     "execution_count": 10,
     "metadata": {},
     "output_type": "execute_result"
    }
   ],
   "source": [
    "imc_list = list()\n",
    "for pessoa in matriz:\n",
    "    peso = pessoa[1]\n",
    "    altura = pessoa[0]\n",
    "    IMC = (peso/altura**2)\n",
    "    imc_list.append(IMC)\n",
    "\n",
    "imc_array = np.array(imc_list)\n",
    "\n",
    "new_table = np.concatenate((matriz, imc_array.reshape(-1,1)), axis=1)\n",
    "\n",
    "new_table"
   ]
  },
  {
   "cell_type": "code",
   "execution_count": null,
   "metadata": {},
   "outputs": [],
   "source": [
    "imc = np.array([peso/altura**2 for altura,peso,sexo in matriz])\n",
    "imc = imc.reshape(20,1)\n",
    "imc"
   ]
  },
  {
   "cell_type": "markdown",
   "metadata": {},
   "source": [
    "| IMC             | Categoria           |   |\n",
    "|-----------------|---------------------|---|\n",
    "| abaixo de 16,00 | Baixo peso Grau III |   |\n",
    "| 16,00 a 16,99   | Baixo peso Grau II  |   |\n",
    "| 17,00 a 18.49   | Baixo peso Grau I   |   |\n",
    "| 18,50 a 24,99   | Peso ideal          |   |\n",
    "| 25,00 a 29,99   | Sobrepeso           |   |\n",
    "| 30,00 a 34,99   | Obesidade Grau I    |   |\n",
    "| 35,00 a 39,99   | Obesidade Grau II   |   |\n",
    "| 40,0 e acima    | Obesidade Grau III  |   |\n",
    "\n",
    "Agora utilize a tabela acima para indicar a qual categoria cada valor de IMC se enquadra. Insira novamente na tabela."
   ]
  },
  {
   "cell_type": "code",
   "execution_count": 11,
   "metadata": {},
   "outputs": [
    {
     "data": {
      "text/plain": [
       "array([['1.788811', '65.648102', '0.0', '20.516026942563006',\n",
       "        'Peso ideal'],\n",
       "       ['1.566784', '76.642768', '0.0', '31.221439684559105',\n",
       "        'Obesidade GRAU I'],\n",
       "       ['2.092193', '55.468185', '1.0', '12.671862911844382',\n",
       "        'Baixo peso Grau III'],\n",
       "       ['1.782471', '67.281997', '1.0', '21.176487571306087',\n",
       "        'Peso ideal'],\n",
       "       ['1.735767', '69.289008', '0.0', '22.9975456097574', 'Peso ideal'],\n",
       "       ['1.686975', '56.840051', '0.0', '19.972717793575036',\n",
       "        'Peso ideal'],\n",
       "       ['1.797105', '65.208973', '1.0', '20.191122114932906',\n",
       "        'Peso ideal'],\n",
       "       ['1.187349', '48.164764', '0.0', '34.16431008742802',\n",
       "        'Obesidade GRAU I'],\n",
       "       ['1.595891', '45.410648', '1.0', '17.829996098895624',\n",
       "        'Baixo peso Grau I'],\n",
       "       ['1.396282', '67.930113', '0.0', '34.84304150287812',\n",
       "        'Obesidade GRAU I'],\n",
       "       ['1.606148', '67.719604', '0.0', '26.250844980187235',\n",
       "        'Sobrepeso'],\n",
       "       ['1.70759', '45.609333', '0.0', '15.641792322967879',\n",
       "        'Baixo peso Grau III'],\n",
       "       ['1.735513', '64.845452', '0.0', '21.52899612253168',\n",
       "        'Peso ideal'],\n",
       "       ['1.672055', '39.705952', '1.0', '14.202163088357656',\n",
       "        'Baixo peso Grau III'],\n",
       "       ['1.723377', '50.05888', '1.0', '16.854681239064504',\n",
       "        'Baixo peso Grau II'],\n",
       "       ['1.684574', '56.545087', '1.0', '19.925750579824385',\n",
       "        'Peso ideal'],\n",
       "       ['1.733259', '37.512188', '0.0', '12.486636478786007',\n",
       "        'Baixo peso Grau III'],\n",
       "       ['1.7579', '57.362422', '0.0', '18.56261460033422', 'Peso ideal'],\n",
       "       ['1.913338', '69.307246', '1.0', '18.931945612244615',\n",
       "        'Peso ideal'],\n",
       "       ['1.456048', '69.342337', '0.0', '32.707480416323556',\n",
       "        'Obesidade GRAU I']], dtype='<U32')"
      ]
     },
     "execution_count": 11,
     "metadata": {},
     "output_type": "execute_result"
    }
   ],
   "source": [
    "#resolução1\n",
    "category_list = []\n",
    "for pessoa in new_table:\n",
    "    imc = pessoa[-1]\n",
    "    if imc < 16:\n",
    "        category_list.append('Baixo peso Grau III')\n",
    "    elif imc >= 16 and imc < 16.99:\n",
    "        category_list.append('Baixo peso Grau II')\n",
    "    elif imc >= 17 and imc < 18.49:\n",
    "        category_list.append('Baixo peso Grau I')\n",
    "    elif imc >= 18.5 and imc < 24.99:\n",
    "        category_list.append('Peso ideal')\n",
    "    elif imc >= 25 and imc < 29.99:\n",
    "        category_list.append('Sobrepeso')\n",
    "    elif imc >= 30 and imc < 34.99:\n",
    "        category_list.append('Obesidade GRAU I')\n",
    "    elif imc >= 35 and imc < 39.99:\n",
    "        category_list.append('Obesidade GRAU II')\n",
    "    elif imc >= 40:\n",
    "        category_list.append('Obesidade GRAU III')\n",
    "\n",
    "category_array = np.array(category_list)\n",
    "final_table = np.concatenate((new_table, category_array.reshape(-1,1)), axis=1)\n",
    "\n",
    "final_table"
   ]
  },
  {
   "cell_type": "code",
   "execution_count": null,
   "metadata": {},
   "outputs": [],
   "source": [
    "#resolução2\n",
    "categoria = []\n",
    "for imc in calc_imc:\n",
    "    if imc < 16:\n",
    "        categoria.append('Baixo peso Grau III')\n",
    "    elif imc <= 16.99:\n",
    "        categoria.append('Baixo peso Grau II')\n",
    "    elif imc <= 18.49:\n",
    "        categoria.append('Baixo peso Grau I')\n",
    "    elif imc <= 24.99:\n",
    "        categoria.append('Peso ideal')\n",
    "    elif imc <= 29.99:\n",
    "        categoria.append('Sobrepeso')\n",
    "    elif imc <= 34.99:\n",
    "        categoria.append('Obesidade Grau I')\n",
    "    elif imc <= 39.99:\n",
    "        categoria.append('Obesidade Grau II')\n",
    "    else:\n",
    "        categoria.append('Obesidade Grau III')\n",
    "        \n",
    "categoria = np.array(categoria).reshape((len(categoria)), 1)\n",
    "\n",
    "matriz_final = np.append(matriz, categoria, axis=1)\n",
    "matriz_final"
   ]
  }
 ],
 "metadata": {
  "kernelspec": {
   "display_name": "Python 3",
   "language": "python",
   "name": "python3"
  },
  "language_info": {
   "codemirror_mode": {
    "name": "ipython",
    "version": 3
   },
   "file_extension": ".py",
   "mimetype": "text/x-python",
   "name": "python",
   "nbconvert_exporter": "python",
   "pygments_lexer": "ipython3",
   "version": "3.12.0"
  }
 },
 "nbformat": 4,
 "nbformat_minor": 2
}
